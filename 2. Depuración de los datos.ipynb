{
 "cells": [
  {
   "cell_type": "code",
   "execution_count": 1,
   "id": "b9e6743b",
   "metadata": {},
   "outputs": [],
   "source": [
    "import pandas as pd"
   ]
  },
  {
   "cell_type": "code",
   "execution_count": 2,
   "id": "8a78e919",
   "metadata": {},
   "outputs": [
    {
     "name": "stderr",
     "output_type": "stream",
     "text": [
      "/var/folders/gk/7kfjrptn36bg3k1rj_t88dj80000gn/T/ipykernel_11222/3947016047.py:2: DtypeWarning: Columns (81) have mixed types. Specify dtype option on import or set low_memory=False.\n",
      "  data = pd.read_csv(\"Datos/Saber2021.csv\")\n"
     ]
    }
   ],
   "source": [
    "#leer grande base de datos\n",
    "data = pd.read_csv(\"Datos/Saber2021.csv\")"
   ]
  },
  {
   "cell_type": "code",
   "execution_count": 3,
   "id": "f5708703",
   "metadata": {},
   "outputs": [
    {
     "data": {
      "text/html": [
       "<div>\n",
       "<style scoped>\n",
       "    .dataframe tbody tr th:only-of-type {\n",
       "        vertical-align: middle;\n",
       "    }\n",
       "\n",
       "    .dataframe tbody tr th {\n",
       "        vertical-align: top;\n",
       "    }\n",
       "\n",
       "    .dataframe thead th {\n",
       "        text-align: right;\n",
       "    }\n",
       "</style>\n",
       "<table border=\"1\" class=\"dataframe\">\n",
       "  <thead>\n",
       "    <tr style=\"text-align: right;\">\n",
       "      <th></th>\n",
       "      <th>ESTU_TIPODOCUMENTO</th>\n",
       "      <th>ESTU_NACIONALIDAD</th>\n",
       "      <th>ESTU_GENERO</th>\n",
       "      <th>ESTU_FECHANACIMIENTO</th>\n",
       "      <th>PERIODO</th>\n",
       "      <th>ESTU_CONSECUTIVO</th>\n",
       "      <th>ESTU_ESTUDIANTE</th>\n",
       "      <th>ESTU_PAIS_RESIDE</th>\n",
       "      <th>ESTU_TIENEETNIA</th>\n",
       "      <th>ESTU_DEPTO_RESIDE</th>\n",
       "      <th>...</th>\n",
       "      <th>PERCENTIL_INGLES</th>\n",
       "      <th>DESEMP_INGLES</th>\n",
       "      <th>PUNT_GLOBAL</th>\n",
       "      <th>PERCENTIL_ESPECIAL_GLOBAL</th>\n",
       "      <th>PERCENTIL_GLOBAL</th>\n",
       "      <th>ESTU_ESTADOINVESTIGACION</th>\n",
       "      <th>ESTU_INSE_INDIVIDUAL</th>\n",
       "      <th>ESTU_NSE_INDIVIDUAL</th>\n",
       "      <th>ESTU_NSE_ESTABLECIMIENTO</th>\n",
       "      <th>ESTU_GENERACION-E</th>\n",
       "    </tr>\n",
       "  </thead>\n",
       "  <tbody>\n",
       "    <tr>\n",
       "      <th>0</th>\n",
       "      <td>TI</td>\n",
       "      <td>COLOMBIA</td>\n",
       "      <td>M</td>\n",
       "      <td>05/11/2003</td>\n",
       "      <td>20211</td>\n",
       "      <td>SB11202110042506</td>\n",
       "      <td>ESTUDIANTE</td>\n",
       "      <td>COLOMBIA</td>\n",
       "      <td>No</td>\n",
       "      <td>VALLE</td>\n",
       "      <td>...</td>\n",
       "      <td>35.0</td>\n",
       "      <td>A2</td>\n",
       "      <td>303</td>\n",
       "      <td>NaN</td>\n",
       "      <td>46.0</td>\n",
       "      <td>PUBLICAR</td>\n",
       "      <td>NaN</td>\n",
       "      <td>NaN</td>\n",
       "      <td>NaN</td>\n",
       "      <td>NaN</td>\n",
       "    </tr>\n",
       "    <tr>\n",
       "      <th>1</th>\n",
       "      <td>TI</td>\n",
       "      <td>COLOMBIA</td>\n",
       "      <td>F</td>\n",
       "      <td>06/10/2004</td>\n",
       "      <td>20211</td>\n",
       "      <td>SB11202110041799</td>\n",
       "      <td>ESTUDIANTE</td>\n",
       "      <td>COLOMBIA</td>\n",
       "      <td>No</td>\n",
       "      <td>VALLE</td>\n",
       "      <td>...</td>\n",
       "      <td>45.0</td>\n",
       "      <td>B1</td>\n",
       "      <td>325</td>\n",
       "      <td>NaN</td>\n",
       "      <td>62.0</td>\n",
       "      <td>PUBLICAR</td>\n",
       "      <td>NaN</td>\n",
       "      <td>NaN</td>\n",
       "      <td>NaN</td>\n",
       "      <td>NaN</td>\n",
       "    </tr>\n",
       "    <tr>\n",
       "      <th>2</th>\n",
       "      <td>TI</td>\n",
       "      <td>COLOMBIA</td>\n",
       "      <td>F</td>\n",
       "      <td>01/10/2003</td>\n",
       "      <td>20211</td>\n",
       "      <td>SB11202110043835</td>\n",
       "      <td>ESTUDIANTE</td>\n",
       "      <td>COLOMBIA</td>\n",
       "      <td>No</td>\n",
       "      <td>VALLE</td>\n",
       "      <td>...</td>\n",
       "      <td>46.0</td>\n",
       "      <td>B1</td>\n",
       "      <td>374</td>\n",
       "      <td>NaN</td>\n",
       "      <td>92.0</td>\n",
       "      <td>PUBLICAR</td>\n",
       "      <td>NaN</td>\n",
       "      <td>NaN</td>\n",
       "      <td>NaN</td>\n",
       "      <td>NaN</td>\n",
       "    </tr>\n",
       "    <tr>\n",
       "      <th>3</th>\n",
       "      <td>TI</td>\n",
       "      <td>COLOMBIA</td>\n",
       "      <td>F</td>\n",
       "      <td>13/01/2003</td>\n",
       "      <td>20211</td>\n",
       "      <td>SB11202110043668</td>\n",
       "      <td>ESTUDIANTE</td>\n",
       "      <td>COLOMBIA</td>\n",
       "      <td>No</td>\n",
       "      <td>VALLE</td>\n",
       "      <td>...</td>\n",
       "      <td>33.0</td>\n",
       "      <td>A2</td>\n",
       "      <td>282</td>\n",
       "      <td>NaN</td>\n",
       "      <td>34.0</td>\n",
       "      <td>PUBLICAR</td>\n",
       "      <td>NaN</td>\n",
       "      <td>NaN</td>\n",
       "      <td>NaN</td>\n",
       "      <td>NaN</td>\n",
       "    </tr>\n",
       "    <tr>\n",
       "      <th>4</th>\n",
       "      <td>TI</td>\n",
       "      <td>COLOMBIA</td>\n",
       "      <td>F</td>\n",
       "      <td>29/08/2004</td>\n",
       "      <td>20211</td>\n",
       "      <td>SB11202110043350</td>\n",
       "      <td>ESTUDIANTE</td>\n",
       "      <td>COLOMBIA</td>\n",
       "      <td>No</td>\n",
       "      <td>VALLE</td>\n",
       "      <td>...</td>\n",
       "      <td>33.0</td>\n",
       "      <td>A2</td>\n",
       "      <td>288</td>\n",
       "      <td>NaN</td>\n",
       "      <td>38.0</td>\n",
       "      <td>PUBLICAR</td>\n",
       "      <td>NaN</td>\n",
       "      <td>NaN</td>\n",
       "      <td>NaN</td>\n",
       "      <td>NaN</td>\n",
       "    </tr>\n",
       "  </tbody>\n",
       "</table>\n",
       "<p>5 rows × 82 columns</p>\n",
       "</div>"
      ],
      "text/plain": [
       "  ESTU_TIPODOCUMENTO ESTU_NACIONALIDAD ESTU_GENERO ESTU_FECHANACIMIENTO  \\\n",
       "0                 TI          COLOMBIA           M           05/11/2003   \n",
       "1                 TI          COLOMBIA           F           06/10/2004   \n",
       "2                 TI          COLOMBIA           F           01/10/2003   \n",
       "3                 TI          COLOMBIA           F           13/01/2003   \n",
       "4                 TI          COLOMBIA           F           29/08/2004   \n",
       "\n",
       "   PERIODO  ESTU_CONSECUTIVO ESTU_ESTUDIANTE ESTU_PAIS_RESIDE ESTU_TIENEETNIA  \\\n",
       "0    20211  SB11202110042506      ESTUDIANTE         COLOMBIA              No   \n",
       "1    20211  SB11202110041799      ESTUDIANTE         COLOMBIA              No   \n",
       "2    20211  SB11202110043835      ESTUDIANTE         COLOMBIA              No   \n",
       "3    20211  SB11202110043668      ESTUDIANTE         COLOMBIA              No   \n",
       "4    20211  SB11202110043350      ESTUDIANTE         COLOMBIA              No   \n",
       "\n",
       "  ESTU_DEPTO_RESIDE  ...  PERCENTIL_INGLES DESEMP_INGLES  PUNT_GLOBAL  \\\n",
       "0             VALLE  ...              35.0            A2          303   \n",
       "1             VALLE  ...              45.0            B1          325   \n",
       "2             VALLE  ...              46.0            B1          374   \n",
       "3             VALLE  ...              33.0            A2          282   \n",
       "4             VALLE  ...              33.0            A2          288   \n",
       "\n",
       "  PERCENTIL_ESPECIAL_GLOBAL PERCENTIL_GLOBAL ESTU_ESTADOINVESTIGACION  \\\n",
       "0                       NaN             46.0                 PUBLICAR   \n",
       "1                       NaN             62.0                 PUBLICAR   \n",
       "2                       NaN             92.0                 PUBLICAR   \n",
       "3                       NaN             34.0                 PUBLICAR   \n",
       "4                       NaN             38.0                 PUBLICAR   \n",
       "\n",
       "  ESTU_INSE_INDIVIDUAL ESTU_NSE_INDIVIDUAL ESTU_NSE_ESTABLECIMIENTO  \\\n",
       "0                  NaN                 NaN                      NaN   \n",
       "1                  NaN                 NaN                      NaN   \n",
       "2                  NaN                 NaN                      NaN   \n",
       "3                  NaN                 NaN                      NaN   \n",
       "4                  NaN                 NaN                      NaN   \n",
       "\n",
       "  ESTU_GENERACION-E  \n",
       "0               NaN  \n",
       "1               NaN  \n",
       "2               NaN  \n",
       "3               NaN  \n",
       "4               NaN  \n",
       "\n",
       "[5 rows x 82 columns]"
      ]
     },
     "execution_count": 3,
     "metadata": {},
     "output_type": "execute_result"
    }
   ],
   "source": [
    "# Comprobar que subiera bien\n",
    "data.head()"
   ]
  },
  {
   "cell_type": "code",
   "execution_count": 4,
   "id": "ca6eff97",
   "metadata": {},
   "outputs": [
    {
     "data": {
      "text/plain": [
       "(548507, 82)"
      ]
     },
     "execution_count": 4,
     "metadata": {},
     "output_type": "execute_result"
    }
   ],
   "source": [
    "# Cuántas filas y columns\n",
    "data.shape"
   ]
  },
  {
   "cell_type": "code",
   "execution_count": 5,
   "id": "66d6429e",
   "metadata": {},
   "outputs": [
    {
     "data": {
      "text/plain": [
       "Index(['ESTU_TIPODOCUMENTO', 'ESTU_NACIONALIDAD', 'ESTU_GENERO',\n",
       "       'ESTU_FECHANACIMIENTO', 'PERIODO', 'ESTU_CONSECUTIVO',\n",
       "       'ESTU_ESTUDIANTE', 'ESTU_PAIS_RESIDE', 'ESTU_TIENEETNIA',\n",
       "       'ESTU_DEPTO_RESIDE', 'ESTU_COD_RESIDE_DEPTO', 'ESTU_MCPIO_RESIDE',\n",
       "       'ESTU_COD_RESIDE_MCPIO', 'FAMI_ESTRATOVIVIENDA', 'FAMI_PERSONASHOGAR',\n",
       "       'FAMI_CUARTOSHOGAR', 'FAMI_EDUCACIONPADRE', 'FAMI_EDUCACIONMADRE',\n",
       "       'FAMI_TRABAJOLABORPADRE', 'FAMI_TRABAJOLABORMADRE',\n",
       "       'FAMI_TIENEINTERNET', 'FAMI_TIENECOMPUTADOR', 'FAMI_TIENELAVADORA',\n",
       "       'FAMI_TIENEHORNOMICROOGAS', 'FAMI_TIENESERVICIOTV',\n",
       "       'FAMI_TIENEAUTOMOVIL', 'FAMI_TIENEMOTOCICLETA',\n",
       "       'FAMI_TIENECONSOLAVIDEOJUEGOS', 'FAMI_NUMLIBROS',\n",
       "       'FAMI_COMELECHEDERIVADOS', 'FAMI_COMECARNEPESCADOHUEVO',\n",
       "       'FAMI_COMECEREALFRUTOSLEGUMBRE', 'FAMI_SITUACIONECONOMICA',\n",
       "       'ESTU_DEDICACIONLECTURADIARIA', 'ESTU_DEDICACIONINTERNET',\n",
       "       'ESTU_HORASSEMANATRABAJA', 'ESTU_TIPOREMUNERACION', 'COLE_CODIGO_ICFES',\n",
       "       'COLE_COD_DANE_ESTABLECIMIENTO', 'COLE_NOMBRE_ESTABLECIMIENTO',\n",
       "       'COLE_GENERO', 'COLE_NATURALEZA', 'COLE_CALENDARIO', 'COLE_BILINGUE',\n",
       "       'COLE_CARACTER', 'COLE_COD_DANE_SEDE', 'COLE_NOMBRE_SEDE',\n",
       "       'COLE_SEDE_PRINCIPAL', 'COLE_AREA_UBICACION', 'COLE_JORNADA',\n",
       "       'COLE_COD_MCPIO_UBICACION', 'COLE_MCPIO_UBICACION',\n",
       "       'COLE_COD_DEPTO_UBICACION', 'COLE_DEPTO_UBICACION',\n",
       "       'ESTU_PRIVADO_LIBERTAD', 'ESTU_COD_MCPIO_PRESENTACION',\n",
       "       'ESTU_MCPIO_PRESENTACION', 'ESTU_DEPTO_PRESENTACION',\n",
       "       'ESTU_COD_DEPTO_PRESENTACION', 'PUNT_LECTURA_CRITICA',\n",
       "       'PERCENTIL_LECTURA_CRITICA', 'DESEMP_LECTURA_CRITICA',\n",
       "       'PUNT_MATEMATICAS', 'PERCENTIL_MATEMATICAS', 'DESEMP_MATEMATICAS',\n",
       "       'PUNT_C_NATURALES', 'PERCENTIL_C_NATURALES', 'DESEMP_C_NATURALES',\n",
       "       'PUNT_SOCIALES_CIUDADANAS', 'PERCENTIL_SOCIALES_CIUDADANAS',\n",
       "       'DESEMP_SOCIALES_CIUDADANAS', 'PUNT_INGLES', 'PERCENTIL_INGLES',\n",
       "       'DESEMP_INGLES', 'PUNT_GLOBAL', 'PERCENTIL_ESPECIAL_GLOBAL',\n",
       "       'PERCENTIL_GLOBAL', 'ESTU_ESTADOINVESTIGACION', 'ESTU_INSE_INDIVIDUAL',\n",
       "       'ESTU_NSE_INDIVIDUAL', 'ESTU_NSE_ESTABLECIMIENTO', 'ESTU_GENERACION-E'],\n",
       "      dtype='object')"
      ]
     },
     "execution_count": 5,
     "metadata": {},
     "output_type": "execute_result"
    }
   ],
   "source": [
    "# Ver los nombres de las columnas\n",
    "data.columns"
   ]
  },
  {
   "cell_type": "code",
   "execution_count": 6,
   "id": "a561eefd",
   "metadata": {},
   "outputs": [
    {
     "name": "stdout",
     "output_type": "stream",
     "text": [
      "COLE_COD_DANE_ESTABLECIMIENTO    10643\n",
      "COLE_COD_MCPIO_UBICACION          1114\n",
      "COLE_COD_DEPTO_UBICACION            33\n",
      "dtype: int64\n"
     ]
    }
   ],
   "source": [
    "# Cuántos colegios, municipios y departamentos son representados\n",
    "count = data[['COLE_COD_DANE_ESTABLECIMIENTO','COLE_COD_MCPIO_UBICACION', \n",
    "              'COLE_COD_DEPTO_UBICACION' ]].nunique()\n",
    "print(count)"
   ]
  },
  {
   "cell_type": "code",
   "execution_count": 7,
   "id": "f734f69d",
   "metadata": {},
   "outputs": [],
   "source": [
    "# Reducir el tamaño de la base, solo guardar variables más relevantes a la investigación\n",
    "data = data.loc[: , ['ESTU_GENERO', 'PERIODO','ESTU_TIENEETNIA','FAMI_ESTRATOVIVIENDA',\n",
    "                     'FAMI_TIENEINTERNET', 'FAMI_TIENECOMPUTADOR','FAMI_SITUACIONECONOMICA',\n",
    "       'ESTU_DEDICACIONLECTURADIARIA', 'ESTU_DEDICACIONINTERNET',\n",
    "       'ESTU_HORASSEMANATRABAJA', 'ESTU_TIPOREMUNERACION', 'COLE_COD_DANE_ESTABLECIMIENTO',\n",
    "       'COLE_GENERO', 'COLE_NATURALEZA', 'COLE_CALENDARIO', 'COLE_BILINGUE',\n",
    "       'COLE_CARACTER', 'COLE_AREA_UBICACION',\n",
    "       'COLE_COD_MCPIO_UBICACION', 'COLE_MCPIO_UBICACION',\n",
    "       'COLE_COD_DEPTO_UBICACION', 'COLE_DEPTO_UBICACION',\n",
    "       'ESTU_COD_MCPIO_PRESENTACION', 'PUNT_GLOBAL',\n",
    "                     'PERCENTIL_GLOBAL']]"
   ]
  },
  {
   "cell_type": "code",
   "execution_count": 8,
   "id": "d9b406a5",
   "metadata": {},
   "outputs": [
    {
     "data": {
      "text/plain": [
       "ESTU_GENERO                         97\n",
       "PERIODO                              0\n",
       "ESTU_TIENEETNIA                   2447\n",
       "FAMI_ESTRATOVIVIENDA             30555\n",
       "FAMI_TIENEINTERNET               27292\n",
       "FAMI_TIENECOMPUTADOR             16477\n",
       "FAMI_SITUACIONECONOMICA          17699\n",
       "ESTU_DEDICACIONLECTURADIARIA     27732\n",
       "ESTU_DEDICACIONINTERNET          28902\n",
       "ESTU_HORASSEMANATRABAJA          16477\n",
       "ESTU_TIPOREMUNERACION            17418\n",
       "COLE_COD_DANE_ESTABLECIMIENTO        0\n",
       "COLE_GENERO                          0\n",
       "COLE_NATURALEZA                      0\n",
       "COLE_CALENDARIO                      0\n",
       "COLE_BILINGUE                    94036\n",
       "COLE_CARACTER                    18532\n",
       "COLE_AREA_UBICACION                  0\n",
       "COLE_COD_MCPIO_UBICACION             0\n",
       "COLE_MCPIO_UBICACION                 0\n",
       "COLE_COD_DEPTO_UBICACION             0\n",
       "COLE_DEPTO_UBICACION                 0\n",
       "ESTU_COD_MCPIO_PRESENTACION          0\n",
       "PUNT_GLOBAL                          0\n",
       "PERCENTIL_GLOBAL                  3932\n",
       "dtype: int64"
      ]
     },
     "execution_count": 8,
     "metadata": {},
     "output_type": "execute_result"
    }
   ],
   "source": [
    "#  Ver si hay valores nulos\n",
    "data.isna().sum()"
   ]
  },
  {
   "cell_type": "code",
   "execution_count": 9,
   "id": "1c1b06b3",
   "metadata": {},
   "outputs": [],
   "source": [
    "# Eliminar todos los valores nulos\n",
    "data = data.dropna()"
   ]
  },
  {
   "cell_type": "code",
   "execution_count": 10,
   "id": "362f86fa",
   "metadata": {},
   "outputs": [
    {
     "data": {
      "text/plain": [
       "(411491, 25)"
      ]
     },
     "execution_count": 10,
     "metadata": {},
     "output_type": "execute_result"
    }
   ],
   "source": [
    "# Cuántas filas y columnas\n",
    "data.shape"
   ]
  },
  {
   "cell_type": "code",
   "execution_count": 11,
   "id": "b26bc973",
   "metadata": {},
   "outputs": [
    {
     "name": "stdout",
     "output_type": "stream",
     "text": [
      "COLE_COD_DANE_ESTABLECIMIENTO    7510\n",
      "COLE_COD_MCPIO_UBICACION         1103\n",
      "COLE_COD_DEPTO_UBICACION           33\n",
      "dtype: int64\n"
     ]
    }
   ],
   "source": [
    "# Cuántos colegios, municipios y departamentos\n",
    "count = data[['COLE_COD_DANE_ESTABLECIMIENTO','COLE_COD_MCPIO_UBICACION', \n",
    "              'COLE_COD_DEPTO_UBICACION' ]].nunique()\n",
    "print(count)"
   ]
  },
  {
   "cell_type": "code",
   "execution_count": 12,
   "id": "cbefbf7a",
   "metadata": {},
   "outputs": [
    {
     "data": {
      "text/plain": [
       "ESTU_GENERO                       object\n",
       "PERIODO                            int64\n",
       "ESTU_TIENEETNIA                   object\n",
       "FAMI_ESTRATOVIVIENDA              object\n",
       "FAMI_TIENEINTERNET                object\n",
       "FAMI_TIENECOMPUTADOR              object\n",
       "FAMI_SITUACIONECONOMICA           object\n",
       "ESTU_DEDICACIONLECTURADIARIA      object\n",
       "ESTU_DEDICACIONINTERNET           object\n",
       "ESTU_HORASSEMANATRABAJA           object\n",
       "ESTU_TIPOREMUNERACION             object\n",
       "COLE_COD_DANE_ESTABLECIMIENTO      int64\n",
       "COLE_GENERO                       object\n",
       "COLE_NATURALEZA                   object\n",
       "COLE_CALENDARIO                   object\n",
       "COLE_BILINGUE                     object\n",
       "COLE_CARACTER                     object\n",
       "COLE_AREA_UBICACION               object\n",
       "COLE_COD_MCPIO_UBICACION           int64\n",
       "COLE_MCPIO_UBICACION              object\n",
       "COLE_COD_DEPTO_UBICACION           int64\n",
       "COLE_DEPTO_UBICACION              object\n",
       "ESTU_COD_MCPIO_PRESENTACION        int64\n",
       "PUNT_GLOBAL                        int64\n",
       "PERCENTIL_GLOBAL                 float64\n",
       "dtype: object"
      ]
     },
     "execution_count": 12,
     "metadata": {},
     "output_type": "execute_result"
    }
   ],
   "source": [
    "# De qué tipo son las variables\n",
    "data.dtypes"
   ]
  },
  {
   "cell_type": "code",
   "execution_count": 20,
   "id": "f7b7d4da",
   "metadata": {},
   "outputs": [
    {
     "name": "stdout",
     "output_type": "stream",
     "text": [
      "{'Tiene Internet': FAMI_TIENEINTERNET\n",
      "No     99246\n",
      "Si    312245\n",
      "Name: FAMI_TIENEINTERNET, dtype: int64, 'Tiene Computador': FAMI_TIENECOMPUTADOR\n",
      "No    161758\n",
      "Si    249733\n",
      "Name: FAMI_TIENECOMPUTADOR, dtype: int64, 'Tiene Etnía': ESTU_TIENEETNIA\n",
      "No    389451\n",
      "Si     22040\n",
      "Name: ESTU_TIENEETNIA, dtype: int64, 'Es Masculino': ESTU_GENERO\n",
      "F    226255\n",
      "M    185236\n",
      "Name: ESTU_GENERO, dtype: int64, 'No Trabaja': ESTU_HORASSEMANATRABAJA\n",
      "0                      257961\n",
      "Entre 11 y 20 horas     37758\n",
      "Entre 21 y 30 horas     13739\n",
      "Menos de 10 horas       87243\n",
      "Más de 30 horas         14790\n",
      "Name: ESTU_HORASSEMANATRABAJA, dtype: int64}\n"
     ]
    }
   ],
   "source": [
    "#Averiguar cuántos estudiantes de cada caracteristicas\n",
    "count_internet = data.groupby(['FAMI_TIENEINTERNET']).FAMI_TIENEINTERNET.count()\n",
    "count_comp = data.groupby(['FAMI_TIENECOMPUTADOR']).FAMI_TIENECOMPUTADOR.count()\n",
    "count_etnia = data.groupby(['ESTU_TIENEETNIA']).ESTU_TIENEETNIA.count()\n",
    "count_genero = data.groupby(['ESTU_GENERO']).ESTU_GENERO.count()\n",
    "count_trabaja = data.groupby(['ESTU_HORASSEMANATRABAJA']).ESTU_HORASSEMANATRABAJA.count()\n",
    "\n",
    "ind_variables = { \"Tiene Internet\": count_internet, \"Tiene Computador\": count_comp ,\n",
    "             \"Tiene Etnía\": count_etnia, \"Es Masculino\": count_genero, \"No Trabaja\": count_trabaja}\n",
    "\n",
    "print(ind_variables)"
   ]
  },
  {
   "cell_type": "code",
   "execution_count": null,
   "id": "2b8ae291",
   "metadata": {},
   "outputs": [],
   "source": []
  },
  {
   "cell_type": "code",
   "execution_count": null,
   "id": "7d5f35e2",
   "metadata": {},
   "outputs": [],
   "source": [
    "# Ver las diferentes categorías de las variables  \n",
    "categoricas = data.loc[: ,[\"ESTU_GENERO\"  ,  \"ESTU_TIENEETNIA\" , \"FAMI_TIENEINTERNET\" ,\n",
    "            \"FAMI_TIENECOMPUTADOR\" ,\"COLE_GENERO\"  ,  \"COLE_NATURALEZA\" ,   \"COLE_CALENDARIO\" ,\n",
    "            \"COLE_BILINGUE\" ,\"COLE_CARACTER\"  , \"COLE_AREA_UBICACION\", 'ESTU_HORASSEMANATRABAJA']]\n",
    "\n",
    "for col in categoricas:\n",
    "    print(data[col].unique())"
   ]
  },
  {
   "cell_type": "code",
   "execution_count": null,
   "id": "b43d290d",
   "metadata": {
    "scrolled": true
   },
   "outputs": [],
   "source": [
    "# Crear dummy variables\n",
    "data = pd.get_dummies(data, columns=[\"ESTU_GENERO\"  ,  \"ESTU_TIENEETNIA\" , \"FAMI_TIENEINTERNET\" ,\n",
    "            \"FAMI_TIENECOMPUTADOR\" ,\"COLE_GENERO\"  ,  \"COLE_NATURALEZA\" ,   \"COLE_CALENDARIO\" ,\n",
    "            \"COLE_BILINGUE\" , \"COLE_AREA_UBICACION\", \"ESTU_HORASSEMANATRABAJA\", \"COLE_CARACTER\"])"
   ]
  },
  {
   "cell_type": "code",
   "execution_count": null,
   "id": "2d3fb1b6",
   "metadata": {},
   "outputs": [],
   "source": [
    "# Ver los nombres\n",
    "data.columns"
   ]
  },
  {
   "cell_type": "code",
   "execution_count": null,
   "id": "06cd42b2",
   "metadata": {},
   "outputs": [],
   "source": [
    "#renombrar las columnas\n",
    "data.rename(columns= {'ESTU_GENERO_M': 'male',\n",
    "                      'ESTU_TIENEETNIA_Si' : 'etnia_si',\n",
    "                      'FAMI_ESTRATOVIVIENDA_Estrato 2' : 'estrato_2', \n",
    "                      'FAMI_ESTRATOVIVIENDA_Estrato 3' : 'estrato_3',\n",
    "                      'FAMI_ESTRATOVIVIENDA_Estrato 4' : 'estrato_4',\n",
    "                      'FAMI_ESTRATOVIVIENDA_Estrato 5' : 'estrato_5',\n",
    "                      'FAMI_ESTRATOVIVIENDA_Estrato 6' : 'estrato_6',\n",
    "                      'FAMI_ESTRATOVIVIENDA_Sin Estrato' : 'estrato_sinestrato',\n",
    "                      'FAMI_TIENEINTERNET_Si' : 'internet_si',\n",
    "                      'FAMI_TIENECOMPUTADOR_Si': 'computador_si',\n",
    "                      'COLE_GENERO_MASCULINO' : 'cole_masculino',\n",
    "                      'COLE_NATURALEZA_NO OFICIAL' : 'cole_privado', 'COLE_NATURALEZA_OFICIAL' : 'cole_publico',\n",
    "                      'COLE_CALENDARIO_A' : 'calendario_a',\n",
    "                      'COLE_CALENDARIO_B' : 'calendario_b',\n",
    "                      'COLE_CALENDARIO_OTRO' : 'calendario_otro',\n",
    "                      'COLE_BILINGUE_S' : 'cole_bilingue', \n",
    "                      'COLE_BILINGUE_N' : 'cole_nbilingue',\n",
    "                      'COLE_AREA_UBICACION_URBANO' : 'cole_urbano',\n",
    "                      'COLE_AREA_UBICACION_RURAL' : 'cole_rural',\n",
    "                      'ESTU_HORASSEMANATRABAJA_0' : 'trabaja_no',\n",
    "                      'COLE_CARACTER_ACADÉMICO' : 'cole_academico'\n",
    "                     }, inplace=True)"
   ]
  },
  {
   "cell_type": "code",
   "execution_count": null,
   "id": "efab47d1",
   "metadata": {},
   "outputs": [],
   "source": [
    "#Check\n",
    "data.columns"
   ]
  },
  {
   "cell_type": "code",
   "execution_count": null,
   "id": "c0e9041f",
   "metadata": {},
   "outputs": [],
   "source": [
    "data.to_csv(\"Datos/Datos.csv\", index = False)"
   ]
  },
  {
   "cell_type": "code",
   "execution_count": null,
   "id": "a806c1a0",
   "metadata": {},
   "outputs": [],
   "source": []
  }
 ],
 "metadata": {
  "kernelspec": {
   "display_name": "Python 3 (ipykernel)",
   "language": "python",
   "name": "python3"
  },
  "language_info": {
   "codemirror_mode": {
    "name": "ipython",
    "version": 3
   },
   "file_extension": ".py",
   "mimetype": "text/x-python",
   "name": "python",
   "nbconvert_exporter": "python",
   "pygments_lexer": "ipython3",
   "version": "3.9.12"
  }
 },
 "nbformat": 4,
 "nbformat_minor": 5
}
